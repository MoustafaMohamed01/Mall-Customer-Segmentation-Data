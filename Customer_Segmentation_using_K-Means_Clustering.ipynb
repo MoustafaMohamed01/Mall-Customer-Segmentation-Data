{
 "cells": [
  {
   "cell_type": "markdown",
   "id": "b8382779-8a1d-4c47-9244-d69dcc0c50dd",
   "metadata": {},
   "source": [
    "# Mall Customer Segmentation Data\n",
    "This project performs customer segmentation using the K-Means clustering algorithm. It applies unsupervised learning to categorize customers based on their annual income and spending score.\n",
    "\n",
    "Dataset: https://www.kaggle.com/datasets/vjchoudhary7/customer-segmentation-tutorial-in-python"
   ]
  },
  {
   "cell_type": "markdown",
   "id": "4c24a7bf-40e4-4f44-a359-779169693720",
   "metadata": {},
   "source": [
    "## Step 1: Importing Libraries\n",
    "- `numpy`: For numerical operations.\n",
    "- `pandas`: For handling datasets.\n",
    "- `seaborn`: For visualization.\n",
    "- `matplotlib.pyplot`: For plotting graphs.\n",
    "- `KMeans`: For applying the K-Means clustering algorithm."
   ]
  },
  {
   "cell_type": "code",
   "execution_count": null,
   "id": "f00f627e-87e0-4005-9d5c-b147a721928c",
   "metadata": {},
   "outputs": [],
   "source": [
    "import numpy as np\n",
    "import pandas as pd\n",
    "import seaborn as sns\n",
    "import matplotlib.pyplot as plt\n",
    "from sklearn.cluster import KMeans"
   ]
  },
  {
   "cell_type": "markdown",
   "id": "55c98b4a-8c41-4f43-8274-ff9ed9bf961e",
   "metadata": {},
   "source": [
    "## Step 2: Loading the Dataset"
   ]
  },
  {
   "cell_type": "code",
   "execution_count": null,
   "id": "da249e4c-3db4-4a76-a6c7-5b6d5650f1ac",
   "metadata": {},
   "outputs": [],
   "source": [
    "df = pd.read_csv(\"Mall_Customers.csv\")\n",
    "df.head()"
   ]
  },
  {
   "cell_type": "code",
   "execution_count": null,
   "id": "d6b7bb1d-3d4a-44a3-b5cd-5cd676ec407f",
   "metadata": {},
   "outputs": [],
   "source": [
    "df.info()"
   ]
  },
  {
   "cell_type": "markdown",
   "id": "7e1263d3-3054-4378-8af4-86e61d90e057",
   "metadata": {},
   "source": [
    "## Step 3: Extracting the Features for Clustering\n",
    "- We are selecting the **Annual Income** and **Spending Score** columns to cluster the customers based on these two features."
   ]
  },
  {
   "cell_type": "code",
   "execution_count": null,
   "id": "935d699d-2cbd-4e71-bd07-c97d7d31bfb1",
   "metadata": {},
   "outputs": [],
   "source": [
    "X = df.iloc[:, [3, 4]].values"
   ]
  },
  {
   "cell_type": "code",
   "execution_count": null,
   "id": "10c5d6dd-406f-43d5-a14c-f22d14b50785",
   "metadata": {},
   "outputs": [],
   "source": [
    "X[0:5]"
   ]
  },
  {
   "cell_type": "markdown",
   "id": "91e7e98a-d16e-4c96-880e-112e100f3c8e",
   "metadata": {},
   "source": [
    "## Step 4: Finding the Optimal Number of Clusters (Elbow Method)\n",
    "- We loop from **1 to 10 clusters** to find the \"Elbow Point.\""
   ]
  },
  {
   "cell_type": "code",
   "execution_count": null,
   "id": "c66279d5-7997-457a-8cbf-5776ba3ba27e",
   "metadata": {},
   "outputs": [],
   "source": [
    "wcss = []\n",
    "for k in range(1, 11):\n",
    "    kmeans = KMeans(n_clusters=k, init=\"k-means++\", random_state=42)\n",
    "    kmeans.fit(X)\n",
    "    wcss.append(kmeans.inertia_)"
   ]
  },
  {
   "cell_type": "markdown",
   "id": "cfff66b8-be4a-476f-9b8e-c5f6de261459",
   "metadata": {},
   "source": [
    "## Step 5: Plotting the Elbow Graph"
   ]
  },
  {
   "cell_type": "code",
   "execution_count": null,
   "id": "aa037dc3-e237-498a-860c-7198a290c7c5",
   "metadata": {},
   "outputs": [],
   "source": [
    "plt.style.use(\"dark_background\")\n",
    "plt.figure(figsize=(8, 5), dpi=150)\n",
    "\n",
    "plt.plot(range(1, 11), wcss, marker='o', linestyle='-', color='#00FFCC', markersize=8, linewidth=2, alpha=0.8)\n",
    "\n",
    "plt.title(\"The Elbow Point Graph\", fontsize=18, color=\"#00FFCC\", weight=\"bold\")\n",
    "plt.xlabel(\"Number of Clusters (K)\", fontsize=12, color=\"#A1A1A1\", labelpad=10)\n",
    "plt.ylabel(\"WCSS (Within Cluster Sum of Squares)\", fontsize=12, color=\"#A1A1A1\", labelpad=10)\n",
    "\n",
    "plt.grid(True, color='gray', linestyle='-', linewidth=0.5, alpha=0.6)\n",
    "plt.tight_layout()\n",
    "plt.savefig(\"elbow_point_graph.png\", dpi=300, bbox_inches='tight', transparent=True)\n",
    "plt.show()"
   ]
  },
  {
   "cell_type": "markdown",
   "id": "053dd1be-7446-4c54-a8ed-eec865557e7f",
   "metadata": {},
   "source": [
    "## Step 6: Training the K-Means Model with the Optimal Number of Clusters (K = 5)\n",
    "- We use **K = 5**, which is the optimal number of clusters from the Elbow Method.\n",
    "- `clusters` contains the cluster labels for each data point."
   ]
  },
  {
   "cell_type": "code",
   "execution_count": null,
   "id": "40ad6db5-b473-4792-8adb-12b55b529431",
   "metadata": {},
   "outputs": [],
   "source": [
    "kmeans = KMeans(n_clusters=5, init=\"k-means++\", random_state=42)\n",
    "clusters = kmeans.fit_predict(X)"
   ]
  },
  {
   "cell_type": "markdown",
   "id": "dd2468c2-f083-4e70-82e5-22bc05218385",
   "metadata": {},
   "source": [
    "## Step 7: Visualizing the Clusters"
   ]
  },
  {
   "cell_type": "code",
   "execution_count": null,
   "id": "f5475fc3-ba13-471f-a883-6f4fb7afd2ad",
   "metadata": {},
   "outputs": [],
   "source": [
    "plt.figure(figsize=(8, 6), dpi=150)\n",
    "colors = [\"green\", \"blue\", \"red\", \"violet\", \"yellow\"]\n",
    "labels = [\"Cluster 1\", \"Cluster 2\", \"Cluster 3\", \"Cluster 4\", \"Cluster 5\"]\n",
    "\n",
    "for i in range(0,5):\n",
    "    plt.scatter(X[clusters == i, 0], X[clusters == i, 1], s=50, color=colors[i], label=labels[i])\n",
    "\n",
    "plt.scatter(kmeans.cluster_centers_[:, 0], kmeans.cluster_centers_[:, 1], s=50, c=\"cyan\", marker=\"X\", label=\"Centroids\")\n",
    "    \n",
    "plt.title(\"Customer Segmentation\")\n",
    "plt.xlabel(\"Annual Income (K$)\")\n",
    "plt.ylabel(\"Spending Score (1-100)\")\n",
    "plt.legend()\n",
    "plt.grid(True)\n",
    "plt.savefig(\"customer_segmentation.png\", dpi=300, bbox_inches='tight', transparent=True)\n",
    "plt.show()"
   ]
  },
  {
   "cell_type": "code",
   "execution_count": null,
   "id": "ccce613d-1e9e-42a7-95f6-9968476767d0",
   "metadata": {},
   "outputs": [],
   "source": []
  }
 ],
 "metadata": {
  "kernelspec": {
   "display_name": "Python 3 (ipykernel)",
   "language": "python",
   "name": "python3"
  },
  "language_info": {
   "codemirror_mode": {
    "name": "ipython",
    "version": 3
   },
   "file_extension": ".py",
   "mimetype": "text/x-python",
   "name": "python",
   "nbconvert_exporter": "python",
   "pygments_lexer": "ipython3",
   "version": "3.12.3"
  }
 },
 "nbformat": 4,
 "nbformat_minor": 5
}
